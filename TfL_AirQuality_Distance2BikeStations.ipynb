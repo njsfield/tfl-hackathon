{
 "cells": [
  {
   "cell_type": "markdown",
   "metadata": {},
   "source": [
    "## Proof of concept for accessing data via tfl APIs and calculating the distance between the user and bike-docking stations in python."
   ]
  },
  {
   "cell_type": "code",
   "execution_count": 1,
   "metadata": {
    "collapsed": true
   },
   "outputs": [],
   "source": [
    "import requests\n",
    "import json\n",
    "import pandas as pd\n",
    "from datetime import datetime"
   ]
  },
  {
   "cell_type": "markdown",
   "metadata": {},
   "source": [
    "### Accessing air quality APIs"
   ]
  },
  {
   "cell_type": "code",
   "execution_count": 2,
   "metadata": {
    "collapsed": true
   },
   "outputs": [],
   "source": [
    "# Get all bike points from TfL API\n",
    "app_id = \"f49aabef\"\n",
    "app_key = \"740a84c9b887a6ae4de325a3d32ac795\"\n",
    "params = {'app_id': app_id, 'app_key': app_key}\n",
    "r = requests.get('https://api.tfl.gov.uk/AirQuality', params=params)\n",
    "air_quality = r.json()"
   ]
  },
  {
   "cell_type": "code",
   "execution_count": 3,
   "metadata": {},
   "outputs": [
    {
     "data": {
      "text/plain": [
       "{'$id': '2',\n",
       " '$type': 'Tfl.Api.Presentation.Entities.CurrentForecast, Tfl.Api.Presentation.Entities',\n",
       " 'forecastBand': 'Moderate',\n",
       " 'forecastID': '12421',\n",
       " 'forecastSummary': 'Moderate ozone air pollution forecast valid from Saturday 17 June to end of Monday 19 June GMT',\n",
       " 'forecastText': 'Saturday will be dry and sunny for most of the day, feeling warm with periods of cloud cover. A relatively clean air feed from the Atlantic should help dispersion of local emissions and pollution is likely to remain &#39;Low&#39;.&lt;br/&gt;&lt;br/&gt;A fine settle conditions forecast for Sunday and Monday with sunshine for  both days. Very light westerly winds will start to arrive from the east by Sunday evening, importing pollution from the north of the Continent. This air feed, combined with hours of unbroken sunshine will allow ozone production to build through both days, with &#39;Moderate&#39; ozone likely in the afternoons, particularly in suburban and outer-London locations.&lt;br/&gt;&lt;br/&gt;Pollution is expected to remain &#39;Low&#39; for the following pollutants during the forecast period:&lt;br/&gt;&lt;br/&gt;Nitrogen Dioxide&lt;br/&gt;PM10 particulates&lt;br/&gt;PM25 particulates&lt;br/&gt;Sulphur Dioxide&lt;br/&gt;&lt;br/&gt;&lt;br/&gt;&lt;br/&gt;&lt;br/&gt;&lt;br/&gt;&lt;br/&gt;',\n",
       " 'forecastType': 'Current',\n",
       " 'nO2Band': 'Low',\n",
       " 'o3Band': 'Moderate',\n",
       " 'pM10Band': 'Low',\n",
       " 'pM25Band': 'Low',\n",
       " 'sO2Band': 'Low'}"
      ]
     },
     "execution_count": 3,
     "metadata": {},
     "output_type": "execute_result"
    }
   ],
   "source": [
    "# Today's forecast\n",
    "air_quality['currentForecast'][0]"
   ]
  },
  {
   "cell_type": "code",
   "execution_count": 4,
   "metadata": {},
   "outputs": [
    {
     "data": {
      "text/plain": [
       "{'$id': '3',\n",
       " '$type': 'Tfl.Api.Presentation.Entities.CurrentForecast, Tfl.Api.Presentation.Entities',\n",
       " 'forecastBand': 'Moderate',\n",
       " 'forecastID': '12421',\n",
       " 'forecastSummary': 'Moderate ozone air pollution forecast valid from Saturday 17 June to end of Monday 19 June GMT',\n",
       " 'forecastText': 'Saturday will be dry and sunny for most of the day, feeling warm with periods of cloud cover. A relatively clean air feed from the Atlantic should help dispersion of local emissions and pollution is likely to remain &#39;Low&#39;.&lt;br/&gt;&lt;br/&gt;A fine settle conditions forecast for Sunday and Monday with sunshine for  both days. Very light westerly winds will start to arrive from the east by Sunday evening, importing pollution from the north of the Continent. This air feed, combined with hours of unbroken sunshine will allow ozone production to build through both days, with &#39;Moderate&#39; ozone likely in the afternoons, particularly in suburban and outer-London locations.&lt;br/&gt;&lt;br/&gt;Pollution is expected to remain &#39;Low&#39; for the following pollutants during the forecast period:&lt;br/&gt;&lt;br/&gt;Nitrogen Dioxide&lt;br/&gt;PM10 particulates&lt;br/&gt;PM25 particulates&lt;br/&gt;Sulphur Dioxide&lt;br/&gt;&lt;br/&gt;&lt;br/&gt;&lt;br/&gt;&lt;br/&gt;&lt;br/&gt;&lt;br/&gt;',\n",
       " 'forecastType': 'Future',\n",
       " 'nO2Band': 'Low',\n",
       " 'o3Band': 'Moderate',\n",
       " 'pM10Band': 'Low',\n",
       " 'pM25Band': 'Low',\n",
       " 'sO2Band': 'Low'}"
      ]
     },
     "execution_count": 4,
     "metadata": {},
     "output_type": "execute_result"
    }
   ],
   "source": [
    "# Tomorrow's forecast\n",
    "air_quality['currentForecast'][1]"
   ]
  },
  {
   "cell_type": "markdown",
   "metadata": {},
   "source": [
    "### Logic for calculating the distance from the user coordinates to the bikes-docking stations."
   ]
  },
  {
   "cell_type": "code",
   "execution_count": 5,
   "metadata": {
    "collapsed": true
   },
   "outputs": [],
   "source": [
    "import math\n",
    "\n",
    "def distance(origin, destination):\n",
    "    lat1, lon1 = origin\n",
    "    lat2, lon2 = destination\n",
    "    radius = 6371 # km\n",
    "\n",
    "    dlat = math.radians(lat2-lat1)\n",
    "    dlon = math.radians(lon2-lon1)\n",
    "    a = math.sin(dlat/2) * math.sin(dlat/2) + math.cos(math.radians(lat1)) \\\n",
    "        * math.cos(math.radians(lat2)) * math.sin(dlon/2) * math.sin(dlon/2)\n",
    "    c = 2 * math.atan2(math.sqrt(a), math.sqrt(1-a))\n",
    "    d = radius * c\n",
    "\n",
    "    return d"
   ]
  },
  {
   "cell_type": "markdown",
   "metadata": {},
   "source": [
    "#### Testing logic with TicketMaster coordinates"
   ]
  },
  {
   "cell_type": "code",
   "execution_count": 6,
   "metadata": {},
   "outputs": [
    {
     "data": {
      "text/plain": [
       "0.3252451958196465"
      ]
     },
     "execution_count": 6,
     "metadata": {},
     "output_type": "execute_result"
    }
   ],
   "source": [
    "origin = (51.5320521, -0.1092356)\n",
    "destination = (51.529163, -0.10997)\n",
    "distance(origin, destination)"
   ]
  },
  {
   "cell_type": "markdown",
   "metadata": {},
   "source": [
    "### Get bikes-docking stations data point from tfl APIs"
   ]
  },
  {
   "cell_type": "code",
   "execution_count": 7,
   "metadata": {},
   "outputs": [],
   "source": [
    "r = requests.get('https://api.tfl.gov.uk/BikePoint', params=params)\n",
    "bike_points = r.json()"
   ]
  },
  {
   "cell_type": "code",
   "execution_count": 8,
   "metadata": {
    "collapsed": true
   },
   "outputs": [],
   "source": [
    "res = []\n",
    "for point in bike_points:\n",
    "    row = {}\n",
    "    for e in point['additionalProperties']:\n",
    "        if e['key'] == 'NbDocks':\n",
    "            row['docks'] = int(e['value'])\n",
    "    row['name'] = point['commonName']\n",
    "    row['id'] = point['id']\n",
    "    row['lat'] = point['lat']\n",
    "    row['lon'] = point['lon']\n",
    "    res.append(row)\n",
    "res_df = pd.DataFrame(res)"
   ]
  },
  {
   "cell_type": "code",
   "execution_count": 9,
   "metadata": {},
   "outputs": [],
   "source": [
    "# res"
   ]
  },
  {
   "cell_type": "code",
   "execution_count": 10,
   "metadata": {},
   "outputs": [],
   "source": [
    "data = {'objects': res}\n",
    "# with open('TfL_bike_station_data.json', 'wb') as outfile:\n",
    "#    json.dump(data, outfile)"
   ]
  },
  {
   "cell_type": "markdown",
   "metadata": {},
   "source": [
    "## Fetching the 3 closest points to the user"
   ]
  },
  {
   "cell_type": "code",
   "execution_count": 11,
   "metadata": {},
   "outputs": [],
   "source": [
    "distances = []\n",
    "for row in data['objects']:\n",
    "    entry = {}\n",
    "    entry[distance(origin, (row['lat'], row['lon']))] = row['id']\n",
    "    distances.append(entry)"
   ]
  },
  {
   "cell_type": "code",
   "execution_count": 12,
   "metadata": {},
   "outputs": [],
   "source": [
    "#distances = sorted(distances)"
   ]
  },
  {
   "cell_type": "code",
   "execution_count": 13,
   "metadata": {},
   "outputs": [
    {
     "name": "stdout",
     "output_type": "stream",
     "text": [
      "BikePoints_1\n",
      "BikePoints_2\n",
      "BikePoints_4\n"
     ]
    }
   ],
   "source": [
    "for e in distances[0:3]:\n",
    "    for key, value in e.items():\n",
    "        print(value)"
   ]
  },
  {
   "cell_type": "code",
   "execution_count": 14,
   "metadata": {},
   "outputs": [
    {
     "data": {
      "text/plain": [
       "{0.3252451958196465: 'BikePoints_1'}"
      ]
     },
     "execution_count": 14,
     "metadata": {},
     "output_type": "execute_result"
    }
   ],
   "source": [
    "distances[0]"
   ]
  }
 ],
 "metadata": {
  "anaconda-cloud": {},
  "kernelspec": {
   "display_name": "Python 3",
   "language": "python",
   "name": "python3"
  },
  "language_info": {
   "codemirror_mode": {
    "name": "ipython",
    "version": 3
   },
   "file_extension": ".py",
   "mimetype": "text/x-python",
   "name": "python",
   "nbconvert_exporter": "python",
   "pygments_lexer": "ipython3",
   "version": "3.6.1"
  }
 },
 "nbformat": 4,
 "nbformat_minor": 2
}
