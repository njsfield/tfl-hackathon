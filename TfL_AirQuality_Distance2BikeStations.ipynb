{
 "cells": [
  {
   "cell_type": "markdown",
   "metadata": {},
   "source": [
    "# Proof of concept for accessing data via TfL APIs and calculating distance between user and cycle hire stations in Python"
   ]
  },
  {
   "cell_type": "markdown",
   "metadata": {},
   "source": [
    "### Import libraries"
   ]
  },
  {
   "cell_type": "code",
   "execution_count": 1,
   "metadata": {
    "collapsed": true
   },
   "outputs": [],
   "source": [
    "import requests\n",
    "import json"
   ]
  },
  {
   "cell_type": "markdown",
   "metadata": {},
   "source": [
    "### Access air quality APIs"
   ]
  },
  {
   "cell_type": "code",
   "execution_count": 2,
   "metadata": {
    "collapsed": true
   },
   "outputs": [],
   "source": [
    "# Get all bike points from TfL API\n",
    "app_id = \"your_app_id\"\n",
    "app_key = \"your_app_key\"\n",
    "params = {'app_id': app_id, 'app_key': app_key}\n",
    "r = requests.get('https://api.tfl.gov.uk/AirQuality', params=params)\n",
    "air_quality = r.json()"
   ]
  },
  {
   "cell_type": "code",
   "execution_count": 3,
   "metadata": {
    "collapsed": false
   },
   "outputs": [
    {
     "data": {
      "text/plain": [
       "{u'$id': u'2',\n",
       " u'$type': u'Tfl.Api.Presentation.Entities.CurrentForecast, Tfl.Api.Presentation.Entities',\n",
       " u'forecastBand': u'Moderate',\n",
       " u'forecastID': u'12421',\n",
       " u'forecastSummary': u'Moderate ozone air pollution forecast valid from Saturday 17 June to end of Monday 19 June GMT',\n",
       " u'forecastText': u'Saturday will be dry and sunny for most of the day, feeling warm with periods of cloud cover. A relatively clean air feed from the Atlantic should help dispersion of local emissions and pollution is likely to remain &#39;Low&#39;.&lt;br/&gt;&lt;br/&gt;A fine settle conditions forecast for Sunday and Monday with sunshine for  both days. Very light westerly winds will start to arrive from the east by Sunday evening, importing pollution from the north of the Continent. This air feed, combined with hours of unbroken sunshine will allow ozone production to build through both days, with &#39;Moderate&#39; ozone likely in the afternoons, particularly in suburban and outer-London locations.&lt;br/&gt;&lt;br/&gt;Pollution is expected to remain &#39;Low&#39; for the following pollutants during the forecast period:&lt;br/&gt;&lt;br/&gt;Nitrogen Dioxide&lt;br/&gt;PM10 particulates&lt;br/&gt;PM25 particulates&lt;br/&gt;Sulphur Dioxide&lt;br/&gt;&lt;br/&gt;&lt;br/&gt;&lt;br/&gt;&lt;br/&gt;&lt;br/&gt;&lt;br/&gt;',\n",
       " u'forecastType': u'Current',\n",
       " u'nO2Band': u'Low',\n",
       " u'o3Band': u'Moderate',\n",
       " u'pM10Band': u'Low',\n",
       " u'pM25Band': u'Low',\n",
       " u'sO2Band': u'Low'}"
      ]
     },
     "execution_count": 3,
     "metadata": {},
     "output_type": "execute_result"
    }
   ],
   "source": [
    "# Today's forecast\n",
    "air_quality['currentForecast'][0]"
   ]
  },
  {
   "cell_type": "code",
   "execution_count": 4,
   "metadata": {
    "collapsed": false
   },
   "outputs": [
    {
     "data": {
      "text/plain": [
       "{u'$id': u'3',\n",
       " u'$type': u'Tfl.Api.Presentation.Entities.CurrentForecast, Tfl.Api.Presentation.Entities',\n",
       " u'forecastBand': u'Low',\n",
       " u'forecastID': u'12447',\n",
       " u'forecastSummary': u'Low air pollution forecast valid from Tuesday 20 June to end of Tuesday 20 June GMT',\n",
       " u'forecastText': u'Tuesday is forecast to be a hot sunny day, although with some cloud present and more wind activity, it&#39;s expected to been a little cooler than the last few days. A light easterly breeze is expected to increase moderate to fresh, from the afternoon onwards.&lt;br/&gt;&lt;br/&gt;During the first part of the day we are likely to import air which had previously been over the near continent. Later on, wind speeds are expected to increase and the path of incoming air change, so we will import relatively &#39;clean&#39; air from the North Sea. &lt;br/&gt;&lt;br/&gt;The change in the path of incoming air combined with some increased cloud and increased wind speed later, should ensure that although elevated at times, ozone and particulates do not build up over the whole day.&lt;br/&gt;&lt;br/&gt;Pollution is expected to remain &#39;Low&#39; for the following pollutants during the forecast period:&lt;br/&gt;&lt;br/&gt;Nitrogen Dioxide&lt;br/&gt;Ozone&lt;br/&gt;PM10 particulates&lt;br/&gt;PM25 particulates&lt;br/&gt;Sulphur Dioxide&lt;br/&gt;&lt;br/&gt;&lt;br/&gt;&lt;br/&gt;&lt;br/&gt;&lt;br/&gt;&lt;br/&gt;&lt;br/&gt;&lt;br/&gt;',\n",
       " u'forecastType': u'Future',\n",
       " u'nO2Band': u'Low',\n",
       " u'o3Band': u'Low',\n",
       " u'pM10Band': u'Low',\n",
       " u'pM25Band': u'Low',\n",
       " u'sO2Band': u'Low'}"
      ]
     },
     "execution_count": 4,
     "metadata": {},
     "output_type": "execute_result"
    }
   ],
   "source": [
    "# Tomorrow's forecast\n",
    "air_quality['currentForecast'][1]"
   ]
  },
  {
   "cell_type": "markdown",
   "metadata": {},
   "source": [
    "### Define logic for calculating distance between coordinates"
   ]
  },
  {
   "cell_type": "code",
   "execution_count": 5,
   "metadata": {
    "collapsed": true
   },
   "outputs": [],
   "source": [
    "# Excerpt from 'haversine.py' (https://gist.github.com/rochacbruno/2883505)\n",
    "import math\n",
    "\n",
    "def distance(origin, destination):\n",
    "    lat1, lon1 = origin\n",
    "    lat2, lon2 = destination\n",
    "    radius = 6371 # km\n",
    "\n",
    "    dlat = math.radians(lat2-lat1)\n",
    "    dlon = math.radians(lon2-lon1)\n",
    "    a = math.sin(dlat/2) * math.sin(dlat/2) + math.cos(math.radians(lat1)) \\\n",
    "        * math.cos(math.radians(lat2)) * math.sin(dlon/2) * math.sin(dlon/2)\n",
    "    c = 2 * math.atan2(math.sqrt(a), math.sqrt(1-a))\n",
    "    d = radius * c\n",
    "\n",
    "    return d"
   ]
  },
  {
   "cell_type": "code",
   "execution_count": 6,
   "metadata": {
    "collapsed": false
   },
   "outputs": [
    {
     "data": {
      "text/plain": [
       "0.3252451958196465"
      ]
     },
     "execution_count": 6,
     "metadata": {},
     "output_type": "execute_result"
    }
   ],
   "source": [
    "# Test logic with TicketMaster office coordinates\n",
    "origin = (51.5320521, -0.1092356)\n",
    "destination = (51.529163, -0.10997)\n",
    "distance(origin, destination)"
   ]
  },
  {
   "cell_type": "markdown",
   "metadata": {},
   "source": [
    "### Request cycle hire station data from TfL API"
   ]
  },
  {
   "cell_type": "code",
   "execution_count": 7,
   "metadata": {
    "collapsed": true
   },
   "outputs": [],
   "source": [
    "r = requests.get('https://api.tfl.gov.uk/BikePoint', params=params)\n",
    "bike_points = r.json()"
   ]
  },
  {
   "cell_type": "code",
   "execution_count": 8,
   "metadata": {
    "collapsed": true
   },
   "outputs": [],
   "source": [
    "stations = []\n",
    "for point in bike_points:\n",
    "    row = {}\n",
    "    for e in point['additionalProperties']:\n",
    "        if e['key'] == 'NbDocks':\n",
    "            row['docks'] = int(e['value'])\n",
    "    row['name'] = point['commonName']\n",
    "    row['id'] = point['id']\n",
    "    row['lat'] = point['lat']\n",
    "    row['lon'] = point['lon']\n",
    "    stations.append(row)"
   ]
  },
  {
   "cell_type": "code",
   "execution_count": 9,
   "metadata": {
    "collapsed": false
   },
   "outputs": [],
   "source": [
    "# Export station data to JSON\n",
    "data = {'objects': stations}\n",
    "# with open('TfL_bike_station_data.json', 'wb') as outfile:\n",
    "#    json.dump(data, outfile)"
   ]
  },
  {
   "cell_type": "markdown",
   "metadata": {},
   "source": [
    "### Fetch user's three closest hire stations"
   ]
  },
  {
   "cell_type": "code",
   "execution_count": 10,
   "metadata": {
    "collapsed": true
   },
   "outputs": [],
   "source": [
    "distances = []\n",
    "for row in data['objects']:\n",
    "    entry = {}\n",
    "    entry[distance(origin, (row['lat'], row['lon']))] = row['id']\n",
    "    distances.append(entry)"
   ]
  },
  {
   "cell_type": "code",
   "execution_count": 11,
   "metadata": {
    "collapsed": true
   },
   "outputs": [],
   "source": [
    "distances = sorted(distances)"
   ]
  },
  {
   "cell_type": "code",
   "execution_count": 12,
   "metadata": {
    "collapsed": false
   },
   "outputs": [],
   "source": [
    "results = []\n",
    "for e in distances[0:3]:\n",
    "    for key, value in e.items():\n",
    "        results.append(value)"
   ]
  },
  {
   "cell_type": "markdown",
   "metadata": {},
   "source": [
    "### Print live hire station data from TfL API"
   ]
  },
  {
   "cell_type": "code",
   "execution_count": 13,
   "metadata": {
    "collapsed": false
   },
   "outputs": [
    {
     "name": "stdout",
     "output_type": "stream",
     "text": [
      "Station 1: Claremont Square, Angel\n",
      "  Bikes available: 8\n",
      "Station 2: Risinghill Street, Angel\n",
      "  Bikes available: 8\n",
      "Station 3: Chadwell Street, Angel\n",
      "  Bikes available: 1\n"
     ]
    }
   ],
   "source": [
    "i = 0\n",
    "for dock_id in results:\n",
    "    i += 1\n",
    "    r = requests.get('https://api.tfl.gov.uk/BikePoint/'+dock_id, params=params)\n",
    "    res = r.json()\n",
    "    print \"Station {0}: \".format(i) + str(res['commonName'])\n",
    "    for e in res['additionalProperties']:\n",
    "        if e['key'] == 'NbBikes':\n",
    "            print \"  Bikes available: \" + str(e['value'])"
   ]
  }
 ],
 "metadata": {
  "anaconda-cloud": {},
  "kernelspec": {
   "display_name": "Python [conda env:DAND]",
   "language": "python",
   "name": "conda-env-DAND-py"
  },
  "language_info": {
   "codemirror_mode": {
    "name": "ipython",
    "version": 2
   },
   "file_extension": ".py",
   "mimetype": "text/x-python",
   "name": "python",
   "nbconvert_exporter": "python",
   "pygments_lexer": "ipython2",
   "version": "2.7.12"
  }
 },
 "nbformat": 4,
 "nbformat_minor": 2
}
