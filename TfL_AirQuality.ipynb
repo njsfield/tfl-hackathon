{
 "cells": [
  {
   "cell_type": "code",
   "execution_count": 1,
   "metadata": {
    "collapsed": true
   },
   "outputs": [],
   "source": [
    "import requests\n",
    "import json\n",
    "import pandas as pd\n",
    "from datetime import datetime"
   ]
  },
  {
   "cell_type": "code",
   "execution_count": 3,
   "metadata": {
    "collapsed": true
   },
   "outputs": [],
   "source": [
    "# Get all bike points from TfL API\n",
    "app_id = \"f49aabef\"\n",
    "app_key = \"740a84c9b887a6ae4de325a3d32ac795\"\n",
    "params = {'app_id': app_id, 'app_key': app_key}\n",
    "r = requests.get('https://api.tfl.gov.uk/AirQuality', params=params)\n",
    "air_quality = r.json()"
   ]
  },
  {
   "cell_type": "code",
   "execution_count": 11,
   "metadata": {
    "collapsed": false
   },
   "outputs": [
    {
     "data": {
      "text/plain": [
       "{u'$id': u'2',\n",
       " u'$type': u'Tfl.Api.Presentation.Entities.CurrentForecast, Tfl.Api.Presentation.Entities',\n",
       " u'forecastBand': u'Low',\n",
       " u'forecastID': u'12420',\n",
       " u'forecastSummary': u'Low air pollution forecast valid from Friday 16 June to end of Friday 16 June GMT',\n",
       " u'forecastText': u'Dry and warm weather conditions are forecast for Friday. However, greater cloud cover and slightly lower temperatures than in recent days will limit the potential for the photochemical generation of ground-level ozone. A steady breeze from the west should effectively disperse locally-emitted pollutants.&lt;br/&gt;&lt;br/&gt;Pollution is expected to remain &#39;Low&#39; for the following pollutants during the forecast period:&lt;br/&gt;&lt;br/&gt;Ozone&lt;br/&gt;Nitrogen Dioxide&lt;br/&gt;PM10 particulates&lt;br/&gt;PM25 particulates&lt;br/&gt;Sulphur Dioxide&lt;br/&gt;&lt;br/&gt;&lt;br/&gt;&lt;br/&gt;&lt;br/&gt;&lt;br/&gt;&lt;br/&gt;&lt;br/&gt;',\n",
       " u'forecastType': u'Current',\n",
       " u'nO2Band': u'Low',\n",
       " u'o3Band': u'Low',\n",
       " u'pM10Band': u'Low',\n",
       " u'pM25Band': u'Low',\n",
       " u'sO2Band': u'Low'}"
      ]
     },
     "execution_count": 11,
     "metadata": {},
     "output_type": "execute_result"
    }
   ],
   "source": [
    "# Today's forecast\n",
    "air_quality['currentForecast'][0]"
   ]
  },
  {
   "cell_type": "code",
   "execution_count": 12,
   "metadata": {
    "collapsed": false
   },
   "outputs": [
    {
     "data": {
      "text/plain": [
       "{u'$id': u'3',\n",
       " u'$type': u'Tfl.Api.Presentation.Entities.CurrentForecast, Tfl.Api.Presentation.Entities',\n",
       " u'forecastBand': u'None',\n",
       " u'forecastID': u'',\n",
       " u'forecastSummary': u'The forecast for tomorrow is not available yet but should be issued around midday. GMT',\n",
       " u'forecastText': u'The forecast for tomorrow is not available yet but should be issued around midday.',\n",
       " u'forecastType': u'Future',\n",
       " u'nO2Band': u'',\n",
       " u'o3Band': u'',\n",
       " u'pM10Band': u'',\n",
       " u'pM25Band': u'',\n",
       " u'sO2Band': u''}"
      ]
     },
     "execution_count": 12,
     "metadata": {},
     "output_type": "execute_result"
    }
   ],
   "source": [
    "# Tomorrow's forecast\n",
    "air_quality['currentForecast'][1]"
   ]
  },
  {
   "cell_type": "code",
   "execution_count": 13,
   "metadata": {
    "collapsed": true
   },
   "outputs": [],
   "source": [
    "import math\n",
    "\n",
    "def distance(origin, destination):\n",
    "    lat1, lon1 = origin\n",
    "    lat2, lon2 = destination\n",
    "    radius = 6371 # km\n",
    "\n",
    "    dlat = math.radians(lat2-lat1)\n",
    "    dlon = math.radians(lon2-lon1)\n",
    "    a = math.sin(dlat/2) * math.sin(dlat/2) + math.cos(math.radians(lat1)) \\\n",
    "        * math.cos(math.radians(lat2)) * math.sin(dlon/2) * math.sin(dlon/2)\n",
    "    c = 2 * math.atan2(math.sqrt(a), math.sqrt(1-a))\n",
    "    d = radius * c\n",
    "\n",
    "    return d"
   ]
  },
  {
   "cell_type": "code",
   "execution_count": 14,
   "metadata": {
    "collapsed": false
   },
   "outputs": [
    {
     "data": {
      "text/plain": [
       "0.3252451958196465"
      ]
     },
     "execution_count": 14,
     "metadata": {},
     "output_type": "execute_result"
    }
   ],
   "source": [
    "origin = (51.5320521, -0.1092356)\n",
    "destination = (51.529163, -0.10997)\n",
    "distance(origin, destination)"
   ]
  }
 ],
 "metadata": {
  "anaconda-cloud": {},
  "kernelspec": {
   "display_name": "Python [conda env:DAND]",
   "language": "python",
   "name": "conda-env-DAND-py"
  },
  "language_info": {
   "codemirror_mode": {
    "name": "ipython",
    "version": 2
   },
   "file_extension": ".py",
   "mimetype": "text/x-python",
   "name": "python",
   "nbconvert_exporter": "python",
   "pygments_lexer": "ipython2",
   "version": "2.7.12"
  }
 },
 "nbformat": 4,
 "nbformat_minor": 2
}
